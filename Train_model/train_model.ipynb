{
 "cells": [
  {
   "cell_type": "code",
   "execution_count": 2,
   "id": "693faa09",
   "metadata": {},
   "outputs": [
    {
     "name": "stderr",
     "output_type": "stream",
     "text": [
      "c:\\Users\\soiba\\anaconda3\\envs\\traffic_sign\\Lib\\site-packages\\requests\\__init__.py:86: RequestsDependencyWarning: Unable to find acceptable character detection dependency (chardet or charset_normalizer).\n",
      "  warnings.warn(\n"
     ]
    }
   ],
   "source": [
    "import numpy as np\n",
    "import pandas as pd\n",
    "import tensorflow as tf\n",
    "import os \n",
    "\n",
    "import cv2\n",
    "from PIL import Image\n",
    "\n",
    "from sklearn import metrics\n",
    "from sklearn.metrics import accuracy_score,f1_score,confusion_matrix,classification_report\n",
    "import matplotlib.pyplot as plt\n",
    "import seaborn as sns\n",
    "%matplotlib inline\n",
    "\n",
    "# Dung de train mo hinh\n",
    "from sklearn.model_selection import train_test_split\n",
    "# from tensorflow.keras.utils import to_categorical\n",
    "# from tensorflow.keras.models import Sequential\n",
    "# from tensorflow.keras.layers import Dense,Conv2D,MaxPooling2D,Flatten,Dropout,BatchNormalization\n",
    "from keras.models import Sequential\n",
    "from keras.layers import Dense,Conv2D,MaxPooling2D,Flatten,Dropout,BatchNormalization\n",
    "from keras.utils import to_categorical\n",
    "import time\n",
    "import datetime\n",
    "\n"
   ]
  },
  {
   "cell_type": "code",
   "execution_count": 3,
   "id": "18c81533",
   "metadata": {},
   "outputs": [],
   "source": [
    "\n",
    "def date_time(x):\n",
    "    if x==1:\n",
    "        return 'Timestamp: {:%Y-%m-%d %H:%M:%S}'.format(datetime.datetime.now())\n",
    "    if x==2:    \n",
    "        return 'Timestamp: {:%Y-%b-%d %H:%M:%S}'.format(datetime.datetime.now())\n",
    "    if x==3:  \n",
    "        return 'Date now: %s' % datetime.datetime.now()\n",
    "    if x==4:  \n",
    "        return 'Date today: %s' % datetime.date.today()"
   ]
  },
  {
   "cell_type": "code",
   "execution_count": null,
   "id": "7957b7c4",
   "metadata": {},
   "outputs": [],
   "source": []
  },
  {
   "cell_type": "code",
   "execution_count": 4,
   "id": "ed8589ef",
   "metadata": {},
   "outputs": [],
   "source": [
    "def plot_performance(history=None, figure_directory=None, ylim_pad=[0, 0]):\n",
    "    xlabel = 'Epoch'\n",
    "    legends = ['Training', 'Validation']\n",
    "\n",
    "    plt.figure(figsize=(20, 5))\n",
    "\n",
    "    y1 = history.history['accuracy']\n",
    "    y2 = history.history['val_accuracy']\n",
    "\n",
    "    min_y = min(min(y1), min(y2))-ylim_pad[0]\n",
    "    max_y = max(max(y1), max(y2))+ylim_pad[0]\n",
    "\n",
    "\n",
    "    plt.subplot(121)\n",
    "\n",
    "    plt.plot(y1)\n",
    "    plt.plot(y2)\n",
    "\n",
    "    plt.title('Model Accuracy\\n', fontsize=17)\n",
    "    plt.xlabel(xlabel, fontsize=15)\n",
    "    plt.ylabel('Accuracy', fontsize=15)\n",
    "    plt.ylim(min_y, max_y)\n",
    "    plt.legend(legends, loc='upper left')\n",
    "    plt.grid()\n",
    "\n",
    "    y1 = history.history['loss']\n",
    "    y2 = history.history['val_loss']\n",
    "\n",
    "    min_y = min(min(y1), min(y2))-ylim_pad[1]\n",
    "    max_y = max(max(y1), max(y2))+ylim_pad[1]\n",
    "\n",
    "\n",
    "    plt.subplot(122)\n",
    "\n",
    "    plt.plot(y1)\n",
    "    plt.plot(y2)\n",
    "\n",
    "    plt.title('Model Loss\\n', fontsize=17)\n",
    "    plt.xlabel(xlabel, fontsize=15)\n",
    "    plt.ylabel('Loss', fontsize=15)\n",
    "    plt.ylim(min_y, max_y)\n",
    "    plt.legend(legends, loc='upper left')\n",
    "    plt.grid()\n",
    "    if figure_directory:\n",
    "        plt.savefig(figure_directory+\"/history\")\n",
    "\n",
    "    plt.show()"
   ]
  },
  {
   "cell_type": "code",
   "execution_count": 5,
   "id": "20d387b1",
   "metadata": {},
   "outputs": [
    {
     "name": "stdout",
     "output_type": "stream",
     "text": [
      "Bắt đầu tải dữ liệu...\n",
      "Đã xử lý xong lớp 1/43\n",
      "Đã xử lý xong lớp 2/43\n",
      "Đã xử lý xong lớp 3/43\n",
      "Đã xử lý xong lớp 4/43\n",
      "Đã xử lý xong lớp 5/43\n",
      "Đã xử lý xong lớp 6/43\n",
      "Đã xử lý xong lớp 7/43\n",
      "Đã xử lý xong lớp 8/43\n",
      "Đã xử lý xong lớp 9/43\n",
      "Đã xử lý xong lớp 10/43\n",
      "Đã xử lý xong lớp 11/43\n",
      "Đã xử lý xong lớp 12/43\n",
      "Đã xử lý xong lớp 13/43\n",
      "Đã xử lý xong lớp 14/43\n",
      "Đã xử lý xong lớp 15/43\n",
      "Đã xử lý xong lớp 16/43\n",
      "Đã xử lý xong lớp 17/43\n",
      "Đã xử lý xong lớp 18/43\n",
      "Đã xử lý xong lớp 19/43\n",
      "Đã xử lý xong lớp 20/43\n",
      "Đã xử lý xong lớp 21/43\n",
      "Đã xử lý xong lớp 22/43\n",
      "Đã xử lý xong lớp 23/43\n",
      "Đã xử lý xong lớp 24/43\n",
      "Đã xử lý xong lớp 25/43\n",
      "Đã xử lý xong lớp 26/43\n",
      "Đã xử lý xong lớp 27/43\n",
      "Đã xử lý xong lớp 28/43\n",
      "Đã xử lý xong lớp 29/43\n",
      "Đã xử lý xong lớp 30/43\n",
      "Đã xử lý xong lớp 31/43\n",
      "Đã xử lý xong lớp 32/43\n",
      "Đã xử lý xong lớp 33/43\n",
      "Đã xử lý xong lớp 34/43\n",
      "Đã xử lý xong lớp 35/43\n",
      "Đã xử lý xong lớp 36/43\n",
      "Đã xử lý xong lớp 37/43\n",
      "Đã xử lý xong lớp 38/43\n",
      "Đã xử lý xong lớp 39/43\n",
      "Đã xử lý xong lớp 40/43\n",
      "Đã xử lý xong lớp 41/43\n",
      "Đã xử lý xong lớp 42/43\n",
      "Đã xử lý xong lớp 43/43\n",
      "Tải dữ liệu hoàn tất.\n",
      "Tổng số ảnh được tải: 39209\n",
      "Kích thước mảng dữ liệu: (39209, 30, 30, 3)\n"
     ]
    }
   ],
   "source": [
    "import os\n",
    "import numpy as np\n",
    "from PIL import Image\n",
    "\n",
    "# --- Cài đặt biến ---\n",
    "classes = 43\n",
    "# Dùng os.path.join() cho đường dẫn thư mục gốc để đảm bảo tương thích trên mọi HĐH\n",
    "base_dir = os.path.join('C:', os.sep, 'workspace', 'Project cá nhân', 'Nhận diện biển báo đường', 'Train') \n",
    "\n",
    "data = []\n",
    "labels = []\n",
    "print(\"Bắt đầu tải dữ liệu...\")\n",
    "\n",
    "# --- Vòng lặp tải và xử lý ảnh ---\n",
    "for i in range(classes):\n",
    "    # 1. Tạo đường dẫn thư mục lớp (ví dụ: .../Train/0, .../Train/1, v.v.)\n",
    "    class_path = os.path.join(base_dir, str(i))\n",
    "    \n",
    "    # Bỏ qua nếu thư mục lớp không tồn tại\n",
    "    if not os.path.isdir(class_path):\n",
    "        print(f\"Cảnh báo: Không tìm thấy thư mục: {class_path}\")\n",
    "        continue\n",
    "\n",
    "    images = os.listdir(class_path)\n",
    "\n",
    "    for image_name in images:\n",
    "        # 2. Tạo đường dẫn đầy đủ đến file ảnh\n",
    "        image_full_path = os.path.join(class_path, image_name)\n",
    "        \n",
    "        try:\n",
    "            # Kiểm tra xem có phải file ảnh không (tránh lỗi với các file ẩn như .DS_Store)\n",
    "            if not image_name.endswith(('.png', '.jpg', '.jpeg', '.ppm')):\n",
    "                continue\n",
    "\n",
    "            # Mở ảnh\n",
    "            image = Image.open(image_full_path)\n",
    "            \n",
    "            # Thay đổi kích thước và chuyển sang mảng numpy\n",
    "            image = image.resize((30, 30))\n",
    "            image_array = np.array(image)\n",
    "            \n",
    "            data.append(image_array)\n",
    "            labels.append(i)\n",
    "            \n",
    "        except Exception as e:\n",
    "            # 3. In lỗi cụ thể để dễ debug\n",
    "            print(f\"Lỗi khi tải ảnh {image_full_path}: {e}\")\n",
    "            \n",
    "    # Hiển thị tiến trình tải\n",
    "    print(f\"Đã xử lý xong lớp {i+1}/{classes}\")\n",
    "\n",
    "# --- Chuyển đổi thành numpy arrays ---\n",
    "data = np.array(data)\n",
    "labels = np.array(labels)\n",
    "\n",
    "print(\"Tải dữ liệu hoàn tất.\")\n",
    "print(f\"Tổng số ảnh được tải: {len(data)}\")\n",
    "print(f\"Kích thước mảng dữ liệu: {data.shape}\")"
   ]
  },
  {
   "cell_type": "code",
   "execution_count": 10,
   "id": "d44a5d23",
   "metadata": {},
   "outputs": [
    {
     "name": "stdout",
     "output_type": "stream",
     "text": [
      "(39209, 30, 30, 3) (39209,)\n",
      "(31367, 30, 30, 3) (7842, 30, 30, 3) (31367,) (7842,)\n"
     ]
    }
   ],
   "source": [
    "# Checking data shape\n",
    "print(data.shape, labels.shape)\n",
    "\n",
    "# Splitting training and testing dataset\n",
    "X_train, X_test, y_train, y_test = train_test_split(data, labels, test_size=0.2, random_state=42)\n",
    "\n",
    "# Displaying the shape after the split\n",
    "print(X_train.shape, X_test.shape, y_train.shape, y_test.shape)\n",
    "\n",
    "# Converting the labels into one hot encoding\n",
    "y_train = to_categorical(y_train, 43)\n",
    "y_test = to_categorical(y_test, 43)"
   ]
  },
  {
   "cell_type": "code",
   "execution_count": 15,
   "id": "a77db3da",
   "metadata": {},
   "outputs": [
    {
     "name": "stderr",
     "output_type": "stream",
     "text": [
      "c:\\Users\\soiba\\anaconda3\\envs\\traffic_sign\\Lib\\site-packages\\keras\\src\\layers\\convolutional\\base_conv.py:113: UserWarning: Do not pass an `input_shape`/`input_dim` argument to a layer. When using Sequential models, prefer using an `Input(shape)` object as the first layer in the model instead.\n",
      "  super().__init__(activity_regularizer=activity_regularizer, **kwargs)\n"
     ]
    },
    {
     "data": {
      "text/html": [
       "<pre style=\"white-space:pre;overflow-x:auto;line-height:normal;font-family:Menlo,'DejaVu Sans Mono',consolas,'Courier New',monospace\"><span style=\"font-weight: bold\">Model: \"sequential_3\"</span>\n",
       "</pre>\n"
      ],
      "text/plain": [
       "\u001b[1mModel: \"sequential_3\"\u001b[0m\n"
      ]
     },
     "metadata": {},
     "output_type": "display_data"
    },
    {
     "data": {
      "text/html": [
       "<pre style=\"white-space:pre;overflow-x:auto;line-height:normal;font-family:Menlo,'DejaVu Sans Mono',consolas,'Courier New',monospace\">┏━━━━━━━━━━━━━━━━━━━━━━━━━━━━━━━━━┳━━━━━━━━━━━━━━━━━━━━━━━━┳━━━━━━━━━━━━━━━┓\n",
       "┃<span style=\"font-weight: bold\"> Layer (type)                    </span>┃<span style=\"font-weight: bold\"> Output Shape           </span>┃<span style=\"font-weight: bold\">       Param # </span>┃\n",
       "┡━━━━━━━━━━━━━━━━━━━━━━━━━━━━━━━━━╇━━━━━━━━━━━━━━━━━━━━━━━━╇━━━━━━━━━━━━━━━┩\n",
       "│ conv2d_6 (<span style=\"color: #0087ff; text-decoration-color: #0087ff\">Conv2D</span>)               │ (<span style=\"color: #00d7ff; text-decoration-color: #00d7ff\">None</span>, <span style=\"color: #00af00; text-decoration-color: #00af00\">26</span>, <span style=\"color: #00af00; text-decoration-color: #00af00\">26</span>, <span style=\"color: #00af00; text-decoration-color: #00af00\">32</span>)     │         <span style=\"color: #00af00; text-decoration-color: #00af00\">2,432</span> │\n",
       "├─────────────────────────────────┼────────────────────────┼───────────────┤\n",
       "│ conv2d_7 (<span style=\"color: #0087ff; text-decoration-color: #0087ff\">Conv2D</span>)               │ (<span style=\"color: #00d7ff; text-decoration-color: #00d7ff\">None</span>, <span style=\"color: #00af00; text-decoration-color: #00af00\">22</span>, <span style=\"color: #00af00; text-decoration-color: #00af00\">22</span>, <span style=\"color: #00af00; text-decoration-color: #00af00\">64</span>)     │        <span style=\"color: #00af00; text-decoration-color: #00af00\">51,264</span> │\n",
       "├─────────────────────────────────┼────────────────────────┼───────────────┤\n",
       "│ max_pooling2d (<span style=\"color: #0087ff; text-decoration-color: #0087ff\">MaxPooling2D</span>)    │ (<span style=\"color: #00d7ff; text-decoration-color: #00d7ff\">None</span>, <span style=\"color: #00af00; text-decoration-color: #00af00\">11</span>, <span style=\"color: #00af00; text-decoration-color: #00af00\">11</span>, <span style=\"color: #00af00; text-decoration-color: #00af00\">64</span>)     │             <span style=\"color: #00af00; text-decoration-color: #00af00\">0</span> │\n",
       "├─────────────────────────────────┼────────────────────────┼───────────────┤\n",
       "│ dropout (<span style=\"color: #0087ff; text-decoration-color: #0087ff\">Dropout</span>)               │ (<span style=\"color: #00d7ff; text-decoration-color: #00d7ff\">None</span>, <span style=\"color: #00af00; text-decoration-color: #00af00\">11</span>, <span style=\"color: #00af00; text-decoration-color: #00af00\">11</span>, <span style=\"color: #00af00; text-decoration-color: #00af00\">64</span>)     │             <span style=\"color: #00af00; text-decoration-color: #00af00\">0</span> │\n",
       "├─────────────────────────────────┼────────────────────────┼───────────────┤\n",
       "│ conv2d_8 (<span style=\"color: #0087ff; text-decoration-color: #0087ff\">Conv2D</span>)               │ (<span style=\"color: #00d7ff; text-decoration-color: #00d7ff\">None</span>, <span style=\"color: #00af00; text-decoration-color: #00af00\">9</span>, <span style=\"color: #00af00; text-decoration-color: #00af00\">9</span>, <span style=\"color: #00af00; text-decoration-color: #00af00\">128</span>)      │        <span style=\"color: #00af00; text-decoration-color: #00af00\">73,856</span> │\n",
       "├─────────────────────────────────┼────────────────────────┼───────────────┤\n",
       "│ conv2d_9 (<span style=\"color: #0087ff; text-decoration-color: #0087ff\">Conv2D</span>)               │ (<span style=\"color: #00d7ff; text-decoration-color: #00d7ff\">None</span>, <span style=\"color: #00af00; text-decoration-color: #00af00\">7</span>, <span style=\"color: #00af00; text-decoration-color: #00af00\">7</span>, <span style=\"color: #00af00; text-decoration-color: #00af00\">256</span>)      │       <span style=\"color: #00af00; text-decoration-color: #00af00\">295,168</span> │\n",
       "├─────────────────────────────────┼────────────────────────┼───────────────┤\n",
       "│ max_pooling2d_1 (<span style=\"color: #0087ff; text-decoration-color: #0087ff\">MaxPooling2D</span>)  │ (<span style=\"color: #00d7ff; text-decoration-color: #00d7ff\">None</span>, <span style=\"color: #00af00; text-decoration-color: #00af00\">3</span>, <span style=\"color: #00af00; text-decoration-color: #00af00\">3</span>, <span style=\"color: #00af00; text-decoration-color: #00af00\">256</span>)      │             <span style=\"color: #00af00; text-decoration-color: #00af00\">0</span> │\n",
       "├─────────────────────────────────┼────────────────────────┼───────────────┤\n",
       "│ dropout_1 (<span style=\"color: #0087ff; text-decoration-color: #0087ff\">Dropout</span>)             │ (<span style=\"color: #00d7ff; text-decoration-color: #00d7ff\">None</span>, <span style=\"color: #00af00; text-decoration-color: #00af00\">3</span>, <span style=\"color: #00af00; text-decoration-color: #00af00\">3</span>, <span style=\"color: #00af00; text-decoration-color: #00af00\">256</span>)      │             <span style=\"color: #00af00; text-decoration-color: #00af00\">0</span> │\n",
       "├─────────────────────────────────┼────────────────────────┼───────────────┤\n",
       "│ flatten (<span style=\"color: #0087ff; text-decoration-color: #0087ff\">Flatten</span>)               │ (<span style=\"color: #00d7ff; text-decoration-color: #00d7ff\">None</span>, <span style=\"color: #00af00; text-decoration-color: #00af00\">2304</span>)           │             <span style=\"color: #00af00; text-decoration-color: #00af00\">0</span> │\n",
       "├─────────────────────────────────┼────────────────────────┼───────────────┤\n",
       "│ dense (<span style=\"color: #0087ff; text-decoration-color: #0087ff\">Dense</span>)                   │ (<span style=\"color: #00d7ff; text-decoration-color: #00d7ff\">None</span>, <span style=\"color: #00af00; text-decoration-color: #00af00\">512</span>)            │     <span style=\"color: #00af00; text-decoration-color: #00af00\">1,180,160</span> │\n",
       "├─────────────────────────────────┼────────────────────────┼───────────────┤\n",
       "│ dropout_2 (<span style=\"color: #0087ff; text-decoration-color: #0087ff\">Dropout</span>)             │ (<span style=\"color: #00d7ff; text-decoration-color: #00d7ff\">None</span>, <span style=\"color: #00af00; text-decoration-color: #00af00\">512</span>)            │             <span style=\"color: #00af00; text-decoration-color: #00af00\">0</span> │\n",
       "├─────────────────────────────────┼────────────────────────┼───────────────┤\n",
       "│ dense_1 (<span style=\"color: #0087ff; text-decoration-color: #0087ff\">Dense</span>)                 │ (<span style=\"color: #00d7ff; text-decoration-color: #00d7ff\">None</span>, <span style=\"color: #00af00; text-decoration-color: #00af00\">43</span>)             │        <span style=\"color: #00af00; text-decoration-color: #00af00\">22,059</span> │\n",
       "└─────────────────────────────────┴────────────────────────┴───────────────┘\n",
       "</pre>\n"
      ],
      "text/plain": [
       "┏━━━━━━━━━━━━━━━━━━━━━━━━━━━━━━━━━┳━━━━━━━━━━━━━━━━━━━━━━━━┳━━━━━━━━━━━━━━━┓\n",
       "┃\u001b[1m \u001b[0m\u001b[1mLayer (type)                   \u001b[0m\u001b[1m \u001b[0m┃\u001b[1m \u001b[0m\u001b[1mOutput Shape          \u001b[0m\u001b[1m \u001b[0m┃\u001b[1m \u001b[0m\u001b[1m      Param #\u001b[0m\u001b[1m \u001b[0m┃\n",
       "┡━━━━━━━━━━━━━━━━━━━━━━━━━━━━━━━━━╇━━━━━━━━━━━━━━━━━━━━━━━━╇━━━━━━━━━━━━━━━┩\n",
       "│ conv2d_6 (\u001b[38;5;33mConv2D\u001b[0m)               │ (\u001b[38;5;45mNone\u001b[0m, \u001b[38;5;34m26\u001b[0m, \u001b[38;5;34m26\u001b[0m, \u001b[38;5;34m32\u001b[0m)     │         \u001b[38;5;34m2,432\u001b[0m │\n",
       "├─────────────────────────────────┼────────────────────────┼───────────────┤\n",
       "│ conv2d_7 (\u001b[38;5;33mConv2D\u001b[0m)               │ (\u001b[38;5;45mNone\u001b[0m, \u001b[38;5;34m22\u001b[0m, \u001b[38;5;34m22\u001b[0m, \u001b[38;5;34m64\u001b[0m)     │        \u001b[38;5;34m51,264\u001b[0m │\n",
       "├─────────────────────────────────┼────────────────────────┼───────────────┤\n",
       "│ max_pooling2d (\u001b[38;5;33mMaxPooling2D\u001b[0m)    │ (\u001b[38;5;45mNone\u001b[0m, \u001b[38;5;34m11\u001b[0m, \u001b[38;5;34m11\u001b[0m, \u001b[38;5;34m64\u001b[0m)     │             \u001b[38;5;34m0\u001b[0m │\n",
       "├─────────────────────────────────┼────────────────────────┼───────────────┤\n",
       "│ dropout (\u001b[38;5;33mDropout\u001b[0m)               │ (\u001b[38;5;45mNone\u001b[0m, \u001b[38;5;34m11\u001b[0m, \u001b[38;5;34m11\u001b[0m, \u001b[38;5;34m64\u001b[0m)     │             \u001b[38;5;34m0\u001b[0m │\n",
       "├─────────────────────────────────┼────────────────────────┼───────────────┤\n",
       "│ conv2d_8 (\u001b[38;5;33mConv2D\u001b[0m)               │ (\u001b[38;5;45mNone\u001b[0m, \u001b[38;5;34m9\u001b[0m, \u001b[38;5;34m9\u001b[0m, \u001b[38;5;34m128\u001b[0m)      │        \u001b[38;5;34m73,856\u001b[0m │\n",
       "├─────────────────────────────────┼────────────────────────┼───────────────┤\n",
       "│ conv2d_9 (\u001b[38;5;33mConv2D\u001b[0m)               │ (\u001b[38;5;45mNone\u001b[0m, \u001b[38;5;34m7\u001b[0m, \u001b[38;5;34m7\u001b[0m, \u001b[38;5;34m256\u001b[0m)      │       \u001b[38;5;34m295,168\u001b[0m │\n",
       "├─────────────────────────────────┼────────────────────────┼───────────────┤\n",
       "│ max_pooling2d_1 (\u001b[38;5;33mMaxPooling2D\u001b[0m)  │ (\u001b[38;5;45mNone\u001b[0m, \u001b[38;5;34m3\u001b[0m, \u001b[38;5;34m3\u001b[0m, \u001b[38;5;34m256\u001b[0m)      │             \u001b[38;5;34m0\u001b[0m │\n",
       "├─────────────────────────────────┼────────────────────────┼───────────────┤\n",
       "│ dropout_1 (\u001b[38;5;33mDropout\u001b[0m)             │ (\u001b[38;5;45mNone\u001b[0m, \u001b[38;5;34m3\u001b[0m, \u001b[38;5;34m3\u001b[0m, \u001b[38;5;34m256\u001b[0m)      │             \u001b[38;5;34m0\u001b[0m │\n",
       "├─────────────────────────────────┼────────────────────────┼───────────────┤\n",
       "│ flatten (\u001b[38;5;33mFlatten\u001b[0m)               │ (\u001b[38;5;45mNone\u001b[0m, \u001b[38;5;34m2304\u001b[0m)           │             \u001b[38;5;34m0\u001b[0m │\n",
       "├─────────────────────────────────┼────────────────────────┼───────────────┤\n",
       "│ dense (\u001b[38;5;33mDense\u001b[0m)                   │ (\u001b[38;5;45mNone\u001b[0m, \u001b[38;5;34m512\u001b[0m)            │     \u001b[38;5;34m1,180,160\u001b[0m │\n",
       "├─────────────────────────────────┼────────────────────────┼───────────────┤\n",
       "│ dropout_2 (\u001b[38;5;33mDropout\u001b[0m)             │ (\u001b[38;5;45mNone\u001b[0m, \u001b[38;5;34m512\u001b[0m)            │             \u001b[38;5;34m0\u001b[0m │\n",
       "├─────────────────────────────────┼────────────────────────┼───────────────┤\n",
       "│ dense_1 (\u001b[38;5;33mDense\u001b[0m)                 │ (\u001b[38;5;45mNone\u001b[0m, \u001b[38;5;34m43\u001b[0m)             │        \u001b[38;5;34m22,059\u001b[0m │\n",
       "└─────────────────────────────────┴────────────────────────┴───────────────┘\n"
      ]
     },
     "metadata": {},
     "output_type": "display_data"
    },
    {
     "data": {
      "text/html": [
       "<pre style=\"white-space:pre;overflow-x:auto;line-height:normal;font-family:Menlo,'DejaVu Sans Mono',consolas,'Courier New',monospace\"><span style=\"font-weight: bold\"> Total params: </span><span style=\"color: #00af00; text-decoration-color: #00af00\">1,624,939</span> (6.20 MB)\n",
       "</pre>\n"
      ],
      "text/plain": [
       "\u001b[1m Total params: \u001b[0m\u001b[38;5;34m1,624,939\u001b[0m (6.20 MB)\n"
      ]
     },
     "metadata": {},
     "output_type": "display_data"
    },
    {
     "data": {
      "text/html": [
       "<pre style=\"white-space:pre;overflow-x:auto;line-height:normal;font-family:Menlo,'DejaVu Sans Mono',consolas,'Courier New',monospace\"><span style=\"font-weight: bold\"> Trainable params: </span><span style=\"color: #00af00; text-decoration-color: #00af00\">1,624,939</span> (6.20 MB)\n",
       "</pre>\n"
      ],
      "text/plain": [
       "\u001b[1m Trainable params: \u001b[0m\u001b[38;5;34m1,624,939\u001b[0m (6.20 MB)\n"
      ]
     },
     "metadata": {},
     "output_type": "display_data"
    },
    {
     "data": {
      "text/html": [
       "<pre style=\"white-space:pre;overflow-x:auto;line-height:normal;font-family:Menlo,'DejaVu Sans Mono',consolas,'Courier New',monospace\"><span style=\"font-weight: bold\"> Non-trainable params: </span><span style=\"color: #00af00; text-decoration-color: #00af00\">0</span> (0.00 B)\n",
       "</pre>\n"
      ],
      "text/plain": [
       "\u001b[1m Non-trainable params: \u001b[0m\u001b[38;5;34m0\u001b[0m (0.00 B)\n"
      ]
     },
     "metadata": {},
     "output_type": "display_data"
    }
   ],
   "source": [
    "from keras.layers import MaxPool2D\n",
    "# Building the model\n",
    "model = Sequential()\n",
    "model.add(Conv2D(filters=32, kernel_size=(5,5), activation='relu', input_shape=X_train.shape[1:]))\n",
    "model.add(Conv2D(filters=64, kernel_size=(5,5), activation='relu'))\n",
    "model.add(MaxPool2D(pool_size=(2, 2)))\n",
    "model.add(Dropout(rate=0.15))\n",
    "model.add(Conv2D(filters=128, kernel_size=(3, 3), activation='relu'))\n",
    "model.add(Conv2D(filters=256, kernel_size=(3, 3), activation='relu'))\n",
    "model.add(MaxPool2D(pool_size=(2, 2)))\n",
    "model.add(Dropout(rate=0.20))\n",
    "model.add(Flatten())\n",
    "model.add(Dense(512, activation='relu'))\n",
    "model.add(Dropout(rate=0.25))\n",
    "model.add(Dense(43, activation='softmax'))\n",
    "\n",
    "# Compilation of the model\n",
    "model.compile(loss='categorical_crossentropy', optimizer='adam', metrics=['accuracy'])\n",
    "\n",
    "#M odel display\n",
    "model.summary() "
   ]
  },
  {
   "cell_type": "code",
   "execution_count": 16,
   "id": "299828d5",
   "metadata": {},
   "outputs": [
    {
     "name": "stdout",
     "output_type": "stream",
     "text": [
      "Epoch 1/35\n",
      "\u001b[1m246/246\u001b[0m \u001b[32m━━━━━━━━━━━━━━━━━━━━\u001b[0m\u001b[37m\u001b[0m \u001b[1m22s\u001b[0m 83ms/step - accuracy: 0.6831 - loss: 1.4872 - val_accuracy: 0.9667 - val_loss: 0.1441\n",
      "Epoch 2/35\n",
      "\u001b[1m246/246\u001b[0m \u001b[32m━━━━━━━━━━━━━━━━━━━━\u001b[0m\u001b[37m\u001b[0m \u001b[1m23s\u001b[0m 95ms/step - accuracy: 0.9523 - loss: 0.1852 - val_accuracy: 0.9686 - val_loss: 0.1296\n",
      "Epoch 3/35\n",
      "\u001b[1m246/246\u001b[0m \u001b[32m━━━━━━━━━━━━━━━━━━━━\u001b[0m\u001b[37m\u001b[0m \u001b[1m28s\u001b[0m 116ms/step - accuracy: 0.9708 - loss: 0.1118 - val_accuracy: 0.9885 - val_loss: 0.0628\n",
      "Epoch 4/35\n",
      "\u001b[1m246/246\u001b[0m \u001b[32m━━━━━━━━━━━━━━━━━━━━\u001b[0m\u001b[37m\u001b[0m \u001b[1m29s\u001b[0m 118ms/step - accuracy: 0.9726 - loss: 0.1051 - val_accuracy: 0.9916 - val_loss: 0.0403\n",
      "Epoch 5/35\n",
      "\u001b[1m246/246\u001b[0m \u001b[32m━━━━━━━━━━━━━━━━━━━━\u001b[0m\u001b[37m\u001b[0m \u001b[1m29s\u001b[0m 116ms/step - accuracy: 0.9821 - loss: 0.0698 - val_accuracy: 0.9939 - val_loss: 0.0247\n",
      "Epoch 6/35\n",
      "\u001b[1m246/246\u001b[0m \u001b[32m━━━━━━━━━━━━━━━━━━━━\u001b[0m\u001b[37m\u001b[0m \u001b[1m29s\u001b[0m 117ms/step - accuracy: 0.9839 - loss: 0.0596 - val_accuracy: 0.9897 - val_loss: 0.0417\n",
      "Epoch 7/35\n",
      "\u001b[1m246/246\u001b[0m \u001b[32m━━━━━━━━━━━━━━━━━━━━\u001b[0m\u001b[37m\u001b[0m \u001b[1m33s\u001b[0m 135ms/step - accuracy: 0.9871 - loss: 0.0494 - val_accuracy: 0.9909 - val_loss: 0.0334\n",
      "Epoch 8/35\n",
      "\u001b[1m246/246\u001b[0m \u001b[32m━━━━━━━━━━━━━━━━━━━━\u001b[0m\u001b[37m\u001b[0m \u001b[1m39s\u001b[0m 157ms/step - accuracy: 0.9863 - loss: 0.0543 - val_accuracy: 0.9875 - val_loss: 0.0552\n",
      "Epoch 9/35\n",
      "\u001b[1m246/246\u001b[0m \u001b[32m━━━━━━━━━━━━━━━━━━━━\u001b[0m\u001b[37m\u001b[0m \u001b[1m38s\u001b[0m 152ms/step - accuracy: 0.9873 - loss: 0.0539 - val_accuracy: 0.9939 - val_loss: 0.0300\n",
      "Epoch 10/35\n",
      "\u001b[1m246/246\u001b[0m \u001b[32m━━━━━━━━━━━━━━━━━━━━\u001b[0m\u001b[37m\u001b[0m \u001b[1m37s\u001b[0m 148ms/step - accuracy: 0.9883 - loss: 0.0432 - val_accuracy: 0.9952 - val_loss: 0.0203\n",
      "Epoch 11/35\n",
      "\u001b[1m246/246\u001b[0m \u001b[32m━━━━━━━━━━━━━━━━━━━━\u001b[0m\u001b[37m\u001b[0m \u001b[1m36s\u001b[0m 148ms/step - accuracy: 0.9897 - loss: 0.0456 - val_accuracy: 0.9875 - val_loss: 0.0485\n",
      "Epoch 12/35\n",
      "\u001b[1m246/246\u001b[0m \u001b[32m━━━━━━━━━━━━━━━━━━━━\u001b[0m\u001b[37m\u001b[0m \u001b[1m33s\u001b[0m 135ms/step - accuracy: 0.9832 - loss: 0.0678 - val_accuracy: 0.9911 - val_loss: 0.0345\n",
      "Epoch 13/35\n",
      "\u001b[1m246/246\u001b[0m \u001b[32m━━━━━━━━━━━━━━━━━━━━\u001b[0m\u001b[37m\u001b[0m \u001b[1m35s\u001b[0m 140ms/step - accuracy: 0.9897 - loss: 0.0399 - val_accuracy: 0.9920 - val_loss: 0.0408\n",
      "Epoch 14/35\n",
      "\u001b[1m246/246\u001b[0m \u001b[32m━━━━━━━━━━━━━━━━━━━━\u001b[0m\u001b[37m\u001b[0m \u001b[1m36s\u001b[0m 146ms/step - accuracy: 0.9865 - loss: 0.0587 - val_accuracy: 0.9909 - val_loss: 0.0405\n",
      "Epoch 15/35\n",
      "\u001b[1m246/246\u001b[0m \u001b[32m━━━━━━━━━━━━━━━━━━━━\u001b[0m\u001b[37m\u001b[0m \u001b[1m41s\u001b[0m 167ms/step - accuracy: 0.9886 - loss: 0.0455 - val_accuracy: 0.9922 - val_loss: 0.0379\n",
      "Epoch 16/35\n",
      "\u001b[1m246/246\u001b[0m \u001b[32m━━━━━━━━━━━━━━━━━━━━\u001b[0m\u001b[37m\u001b[0m \u001b[1m37s\u001b[0m 148ms/step - accuracy: 0.9879 - loss: 0.0526 - val_accuracy: 0.9941 - val_loss: 0.0258\n",
      "Epoch 17/35\n",
      "\u001b[1m246/246\u001b[0m \u001b[32m━━━━━━━━━━━━━━━━━━━━\u001b[0m\u001b[37m\u001b[0m \u001b[1m35s\u001b[0m 143ms/step - accuracy: 0.9923 - loss: 0.0334 - val_accuracy: 0.9968 - val_loss: 0.0219\n",
      "Epoch 18/35\n",
      "\u001b[1m246/246\u001b[0m \u001b[32m━━━━━━━━━━━━━━━━━━━━\u001b[0m\u001b[37m\u001b[0m \u001b[1m34s\u001b[0m 140ms/step - accuracy: 0.9899 - loss: 0.0463 - val_accuracy: 0.9934 - val_loss: 0.0406\n",
      "Epoch 19/35\n",
      "\u001b[1m246/246\u001b[0m \u001b[32m━━━━━━━━━━━━━━━━━━━━\u001b[0m\u001b[37m\u001b[0m \u001b[1m33s\u001b[0m 134ms/step - accuracy: 0.9839 - loss: 0.0713 - val_accuracy: 0.9934 - val_loss: 0.0380\n",
      "Epoch 20/35\n",
      "\u001b[1m246/246\u001b[0m \u001b[32m━━━━━━━━━━━━━━━━━━━━\u001b[0m\u001b[37m\u001b[0m \u001b[1m36s\u001b[0m 147ms/step - accuracy: 0.9887 - loss: 0.0522 - val_accuracy: 0.9949 - val_loss: 0.0246\n",
      "Epoch 21/35\n",
      "\u001b[1m246/246\u001b[0m \u001b[32m━━━━━━━━━━━━━━━━━━━━\u001b[0m\u001b[37m\u001b[0m \u001b[1m30s\u001b[0m 122ms/step - accuracy: 0.9927 - loss: 0.0344 - val_accuracy: 0.9955 - val_loss: 0.0262\n",
      "Epoch 22/35\n",
      "\u001b[1m246/246\u001b[0m \u001b[32m━━━━━━━━━━━━━━━━━━━━\u001b[0m\u001b[37m\u001b[0m \u001b[1m30s\u001b[0m 124ms/step - accuracy: 0.9916 - loss: 0.0392 - val_accuracy: 0.9954 - val_loss: 0.0249\n",
      "Epoch 23/35\n",
      "\u001b[1m246/246\u001b[0m \u001b[32m━━━━━━━━━━━━━━━━━━━━\u001b[0m\u001b[37m\u001b[0m \u001b[1m33s\u001b[0m 135ms/step - accuracy: 0.9872 - loss: 0.0641 - val_accuracy: 0.9908 - val_loss: 0.0482\n",
      "Epoch 24/35\n",
      "\u001b[1m246/246\u001b[0m \u001b[32m━━━━━━━━━━━━━━━━━━━━\u001b[0m\u001b[37m\u001b[0m \u001b[1m35s\u001b[0m 140ms/step - accuracy: 0.9913 - loss: 0.0366 - val_accuracy: 0.9932 - val_loss: 0.0375\n",
      "Epoch 25/35\n",
      "\u001b[1m246/246\u001b[0m \u001b[32m━━━━━━━━━━━━━━━━━━━━\u001b[0m\u001b[37m\u001b[0m \u001b[1m33s\u001b[0m 132ms/step - accuracy: 0.9905 - loss: 0.0526 - val_accuracy: 0.9903 - val_loss: 0.0493\n",
      "Epoch 26/35\n",
      "\u001b[1m246/246\u001b[0m \u001b[32m━━━━━━━━━━━━━━━━━━━━\u001b[0m\u001b[37m\u001b[0m \u001b[1m33s\u001b[0m 132ms/step - accuracy: 0.9872 - loss: 0.0676 - val_accuracy: 0.9825 - val_loss: 0.0794\n",
      "Epoch 27/35\n",
      "\u001b[1m246/246\u001b[0m \u001b[32m━━━━━━━━━━━━━━━━━━━━\u001b[0m\u001b[37m\u001b[0m \u001b[1m31s\u001b[0m 126ms/step - accuracy: 0.9871 - loss: 0.0706 - val_accuracy: 0.9954 - val_loss: 0.0369\n",
      "Epoch 28/35\n",
      "\u001b[1m246/246\u001b[0m \u001b[32m━━━━━━━━━━━━━━━━━━━━\u001b[0m\u001b[37m\u001b[0m \u001b[1m31s\u001b[0m 126ms/step - accuracy: 0.9844 - loss: 0.0904 - val_accuracy: 0.9915 - val_loss: 0.0538\n",
      "Epoch 29/35\n",
      "\u001b[1m246/246\u001b[0m \u001b[32m━━━━━━━━━━━━━━━━━━━━\u001b[0m\u001b[37m\u001b[0m \u001b[1m30s\u001b[0m 120ms/step - accuracy: 0.9898 - loss: 0.0526 - val_accuracy: 0.9950 - val_loss: 0.0304\n",
      "Epoch 30/35\n",
      "\u001b[1m246/246\u001b[0m \u001b[32m━━━━━━━━━━━━━━━━━━━━\u001b[0m\u001b[37m\u001b[0m \u001b[1m32s\u001b[0m 131ms/step - accuracy: 0.9939 - loss: 0.0360 - val_accuracy: 0.9971 - val_loss: 0.0248\n",
      "Epoch 31/35\n",
      "\u001b[1m246/246\u001b[0m \u001b[32m━━━━━━━━━━━━━━━━━━━━\u001b[0m\u001b[37m\u001b[0m \u001b[1m36s\u001b[0m 146ms/step - accuracy: 0.9899 - loss: 0.0641 - val_accuracy: 0.9948 - val_loss: 0.0506\n",
      "Epoch 32/35\n",
      "\u001b[1m246/246\u001b[0m \u001b[32m━━━━━━━━━━━━━━━━━━━━\u001b[0m\u001b[37m\u001b[0m \u001b[1m36s\u001b[0m 147ms/step - accuracy: 0.9948 - loss: 0.0293 - val_accuracy: 0.9962 - val_loss: 0.0413\n",
      "Epoch 33/35\n",
      "\u001b[1m246/246\u001b[0m \u001b[32m━━━━━━━━━━━━━━━━━━━━\u001b[0m\u001b[37m\u001b[0m \u001b[1m36s\u001b[0m 148ms/step - accuracy: 0.9929 - loss: 0.0445 - val_accuracy: 0.9949 - val_loss: 0.0346\n",
      "Epoch 34/35\n",
      "\u001b[1m246/246\u001b[0m \u001b[32m━━━━━━━━━━━━━━━━━━━━\u001b[0m\u001b[37m\u001b[0m \u001b[1m35s\u001b[0m 141ms/step - accuracy: 0.9928 - loss: 0.0471 - val_accuracy: 0.9959 - val_loss: 0.0309\n",
      "Epoch 35/35\n",
      "\u001b[1m246/246\u001b[0m \u001b[32m━━━━━━━━━━━━━━━━━━━━\u001b[0m\u001b[37m\u001b[0m \u001b[1m34s\u001b[0m 138ms/step - accuracy: 0.9932 - loss: 0.0410 - val_accuracy: 0.9959 - val_loss: 0.0394\n"
     ]
    }
   ],
   "source": [
    "with tf.device('/GPU:0'):\n",
    "    epochs = 35\n",
    "    history1 = model.fit(X_train, y_train, batch_size=128, epochs=epochs, validation_data=(X_test, y_test))"
   ]
  },
  {
   "cell_type": "code",
   "execution_count": 19,
   "id": "50239389",
   "metadata": {},
   "outputs": [
    {
     "data": {
      "image/png": "[encoded data removed]",
      "text/plain": [
       "<Figure size 2000x500 with 2 Axes>"
      ]
     },
     "metadata": {},
     "output_type": "display_data"
    }
   ],
   "source": [
    "plot_performance(history=history1)"
   ]
  },
  {
   "cell_type": "code",
   "execution_count": null,
   "id": "31f855b3",
   "metadata": {},
   "outputs": [
    {
     "ename": "SyntaxError",
     "evalue": "(unicode error) 'unicodeescape' codec can't decode bytes in position 46-47: malformed \\N character escape (1628405617.py, line 16)",
     "output_type": "error",
     "traceback": [
      "  \u001b[36mCell\u001b[39m\u001b[36m \u001b[39m\u001b[32mIn[22]\u001b[39m\u001b[32m, line 16\u001b[39m\n\u001b[31m    \u001b[39m\u001b[31mimage = Image.open('C:\\workspace\\Project cá nhân\\Nhận diện biển báo đường'+img)\u001b[39m\n                       ^\n\u001b[31mSyntaxError\u001b[39m\u001b[31m:\u001b[39m (unicode error) 'unicodeescape' codec can't decode bytes in position 46-47: malformed \\N character escape\n"
     ]
    }
   ],
   "source": [
    "# testing accuracy on test dataset\n",
    "from sklearn.metrics import accuracy_score\n",
    "\n",
    "# Importing the test dataset\n",
    "# y_test = pd.read_csv('C:\\workspace\\Project cá nhân\\Nhận diện biển báo đường\\Test.csv')\n",
    "base_path = os.path.join('C:', os.sep, 'workspace', 'Project cá nhân', 'Nhận diện biển báo đường')\n",
    "y_test = os.path.join(base_path, 'Test.csv')\n",
    "labels = y_test[\"ClassId\"].values\n",
    "imgs = y_test[\"Path\"].values\n",
    "\n",
    "data=[]\n",
    "\n",
    "# Retreiving the images\n",
    "with tf.device('/GPU:0'):\n",
    "    for img in imgs:\n",
    "        image = Image.open('C:\\workspace\\Project cá nhân\\Nhận diện biển báo đường'+img)\n",
    "        image = image.resize([30, 30])\n",
    "        data.append(np.array(image))\n",
    "\n",
    "X_test=np.array(data)"
   ]
  },
  {
   "cell_type": "code",
   "execution_count": 23,
   "id": "6c7e1821",
   "metadata": {},
   "outputs": [
    {
     "name": "stdout",
     "output_type": "stream",
     "text": [
      "Tải xong 12630 ảnh test.\n",
      "Kích thước X_test: (12630, 30, 30, 3)\n"
     ]
    }
   ],
   "source": [
    "import pandas as pd\n",
    "import numpy as np\n",
    "from PIL import Image\n",
    "import os\n",
    "import tensorflow as tf # Cần import TensorFlow để dùng tf.device\n",
    "from sklearn.metrics import accuracy_score\n",
    "\n",
    "# --- Định nghĩa Đường dẫn Gốc ---\n",
    "# Sử dụng os.path.join() để đảm bảo tính tương thích giữa các HĐH\n",
    "base_path = os.path.join('C:', os.sep, 'workspace', 'Project cá nhân', 'Nhận diện biển báo đường')\n",
    "test_csv_path = os.path.join(base_path, 'Test.csv')\n",
    "\n",
    "\n",
    "# --- Importing the test dataset ---\n",
    "try:\n",
    "    y_test = pd.read_csv(test_csv_path)\n",
    "except FileNotFoundError:\n",
    "    print(f\"LỖI: Không tìm thấy file CSV tại {test_csv_path}. Vui lòng kiểm tra lại đường dẫn.\")\n",
    "    exit()\n",
    "\n",
    "labels = y_test[\"ClassId\"].values\n",
    "imgs = y_test[\"Path\"].values # Ví dụ: ['/Test/00000.png', 'Test/00001.png', ...]\n",
    "\n",
    "data = []\n",
    "\n",
    "# --- Retrieving the images ---\n",
    "# Giữ khối tf.device nếu bạn muốn sử dụng GPU, nếu không, hãy bỏ nó đi\n",
    "with tf.device('/GPU:0'):\n",
    "    for img_relative_path in imgs:\n",
    "        \n",
    "        # ⚠️ Sửa lỗi nối đường dẫn file\n",
    "        # imgs[i] chứa đường dẫn tương đối (ví dụ: 'Test/00000.png')\n",
    "        # Dùng os.path.join() là cách đúng để nối đường dẫn gốc và đường dẫn tương đối\n",
    "        image_full_path = os.path.join(base_path, img_relative_path)\n",
    "        \n",
    "        try:\n",
    "            image = Image.open(image_full_path)\n",
    "            image = image.resize((30, 30))\n",
    "            data.append(np.array(image))\n",
    "        except FileNotFoundError:\n",
    "            print(f\"LỖI: Không tìm thấy ảnh tại {image_full_path}\")\n",
    "        except Exception as e:\n",
    "            print(f\"LỖi khác khi tải ảnh {image_full_path}: {e}\")\n",
    "\n",
    "# Converting lists into numpy arrays\n",
    "X_test = np.array(data)\n",
    "y_test_labels = labels # Đổi tên biến y_test thành y_test_labels để tránh nhầm lẫn\n",
    "\n",
    "print(f\"Tải xong {X_test.shape[0]} ảnh test.\")\n",
    "print(f\"Kích thước X_test: {X_test.shape}\")"
   ]
  },
  {
   "cell_type": "code",
   "execution_count": 24,
   "id": "938074d1",
   "metadata": {},
   "outputs": [
    {
     "name": "stdout",
     "output_type": "stream",
     "text": [
      "\u001b[1m395/395\u001b[0m \u001b[32m━━━━━━━━━━━━━━━━━━━━\u001b[0m\u001b[37m\u001b[0m \u001b[1m3s\u001b[0m 8ms/step\n",
      "0.9694378463974663\n"
     ]
    }
   ],
   "source": [
    "with tf.device('/GPU:0'):\n",
    "    pred = np.argmax(model.predict(X_test), axis=-1)\n",
    "\n",
    "#Accuracy with the test data\n",
    "from sklearn.metrics import accuracy_score\n",
    "print(accuracy_score(labels, pred))"
   ]
  },
  {
   "cell_type": "code",
   "execution_count": 25,
   "id": "64b10a50",
   "metadata": {},
   "outputs": [
    {
     "name": "stderr",
     "output_type": "stream",
     "text": [
      "WARNING:absl:You are saving your model as an HDF5 file via `model.save()` or `keras.saving.save_model(model)`. This file format is considered legacy. We recommend using instead the native Keras format, e.g. `model.save('my_model.keras')` or `keras.saving.save_model(model, 'my_model.keras')`. \n"
     ]
    }
   ],
   "source": [
    "model.save('traffic_sign_model.h5')"
   ]
  }
 ],
 "metadata": {
  "kernelspec": {
   "display_name": "traffic_sign",
   "language": "python",
   "name": "python3"
  },
  "language_info": {
   "codemirror_mode": {
    "name": "ipython",
    "version": 3
   },
   "file_extension": ".py",
   "mimetype": "text/x-python",
   "name": "python",
   "nbconvert_exporter": "python",
   "pygments_lexer": "ipython3",
   "version": "3.12.12"
  }
 },
 "nbformat": 4,
 "nbformat_minor": 5
}
